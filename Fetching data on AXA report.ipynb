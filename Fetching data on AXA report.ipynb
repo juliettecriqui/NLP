{
 "cells": [
  {
   "cell_type": "markdown",
   "metadata": {},
   "source": [
    "# Fetching data on AXA report\n",
    "***"
   ]
  },
  {
   "cell_type": "markdown",
   "metadata": {},
   "source": [
    "Import the necessary packages:"
   ]
  },
  {
   "cell_type": "code",
   "execution_count": 39,
   "metadata": {},
   "outputs": [],
   "source": [
    "import PyPDF2\n",
    "import re"
   ]
  },
  {
   "cell_type": "markdown",
   "metadata": {},
   "source": [
    "Open the AXA report pdf:"
   ]
  },
  {
   "cell_type": "code",
   "execution_count": 40,
   "metadata": {},
   "outputs": [],
   "source": [
    "AXA_report = PyPDF2.PdfFileReader(\"/Users/Juliette/Dropbox/Dev/AXA.pdf\")"
   ]
  },
  {
   "cell_type": "markdown",
   "metadata": {},
   "source": [
    "Get the number of pages of the report:"
   ]
  },
  {
   "cell_type": "code",
   "execution_count": 41,
   "metadata": {},
   "outputs": [],
   "source": [
    "NumPages = AXA_report.getNumPages()"
   ]
  },
  {
   "cell_type": "markdown",
   "metadata": {},
   "source": [
    "Define the keywords we want to search for:"
   ]
  },
  {
   "cell_type": "code",
   "execution_count": 42,
   "metadata": {},
   "outputs": [],
   "source": [
    "keyterm1 = \"employees\"\n",
    "keyterm2 = \"co2\""
   ]
  },
  {
   "cell_type": "markdown",
   "metadata": {},
   "source": [
    "Extract the text, do the \"employees\" search and print the result page by page:"
   ]
  },
  {
   "cell_type": "code",
   "execution_count": 43,
   "metadata": {},
   "outputs": [
    {
     "name": "stdout",
     "output_type": "stream",
     "text": [
      "On page 1 None\n",
      "On page 2 None\n",
      "On page 3 None\n",
      "On page 4 None\n",
      "On page 5 None\n",
      "On page 6 None\n",
      "On page 7 None\n",
      "On page 8 None\n",
      "On page 9 None\n",
      "On page 10 None\n",
      "On page 11 None\n",
      "On page 12 None\n",
      "On page 13 None\n",
      "On page 14 <re.Match object; span=(2729, 2738), match='employees'>\n",
      "On page 15 <re.Match object; span=(373, 382), match='employees'>\n",
      "On page 16 None\n",
      "On page 17 None\n",
      "On page 18 None\n",
      "On page 19 <re.Match object; span=(596, 605), match='employees'>\n",
      "On page 20 None\n",
      "On page 21 None\n",
      "On page 22 None\n",
      "On page 23 <re.Match object; span=(689, 698), match='employees'>\n",
      "On page 24 None\n",
      "On page 25 <re.Match object; span=(1124, 1133), match='employees'>\n",
      "On page 26 None\n",
      "On page 27 None\n",
      "On page 28 None\n",
      "On page 29 <re.Match object; span=(662, 671), match='employees'>\n",
      "On page 30 None\n",
      "On page 31 <re.Match object; span=(2487, 2496), match='employees'>\n",
      "On page 32 <re.Match object; span=(722, 731), match='employees'>\n",
      "On page 33 <re.Match object; span=(1650, 1659), match='employees'>\n",
      "On page 34 None\n",
      "On page 35 <re.Match object; span=(791, 800), match='employees'>\n",
      "On page 36 None\n",
      "On page 37 None\n",
      "On page 38 None\n",
      "On page 39 None\n",
      "On page 40 None\n",
      "On page 41 <re.Match object; span=(371, 380), match='employees'>\n",
      "On page 42 <re.Match object; span=(2038, 2047), match='employees'>\n",
      "On page 43 None\n",
      "On page 44 None\n"
     ]
    }
   ],
   "source": [
    "for i in range(NumPages):\n",
    "    PageObj = AXA_report.getPage(i) \n",
    "    Text = PageObj.extractText() \n",
    "    ResSearch = re.search(keyterm1, Text)\n",
    "    print(\"On page \" + str(i+1), ResSearch)"
   ]
  },
  {
   "cell_type": "markdown",
   "metadata": {},
   "source": [
    "Extract the text, do the \"CO2\" search and print the result page by page:"
   ]
  },
  {
   "cell_type": "code",
   "execution_count": 44,
   "metadata": {},
   "outputs": [
    {
     "name": "stdout",
     "output_type": "stream",
     "text": [
      "On page 1 None\n",
      "On page 2 None\n",
      "On page 3 None\n",
      "On page 4 None\n",
      "On page 5 None\n",
      "On page 6 None\n",
      "On page 7 None\n",
      "On page 8 None\n",
      "On page 9 None\n",
      "On page 10 None\n",
      "On page 11 None\n",
      "On page 12 None\n",
      "On page 13 None\n",
      "On page 14 None\n",
      "On page 15 None\n",
      "On page 16 None\n",
      "On page 17 None\n",
      "On page 18 None\n",
      "On page 19 None\n",
      "On page 20 None\n",
      "On page 21 None\n",
      "On page 22 None\n",
      "On page 23 None\n",
      "On page 24 None\n",
      "On page 25 None\n",
      "On page 26 None\n",
      "On page 27 None\n",
      "On page 28 None\n",
      "On page 29 None\n",
      "On page 30 None\n",
      "On page 31 None\n",
      "On page 32 None\n",
      "On page 33 None\n",
      "On page 34 None\n",
      "On page 35 None\n",
      "On page 36 None\n",
      "On page 37 None\n",
      "On page 38 None\n",
      "On page 39 None\n",
      "On page 40 None\n",
      "On page 41 None\n",
      "On page 42 None\n",
      "On page 43 None\n",
      "On page 44 None\n"
     ]
    }
   ],
   "source": [
    "for i in range(NumPages):\n",
    "    PageObj = AXA_report.getPage(i) \n",
    "    Text = PageObj.extractText() \n",
    "    ResSearch = re.search(keyterm2, Text)\n",
    "    print(\"On page \" + str(i+1), ResSearch)"
   ]
  }
 ],
 "metadata": {
  "kernelspec": {
   "display_name": "Python 3",
   "language": "python",
   "name": "python3"
  },
  "language_info": {
   "codemirror_mode": {
    "name": "ipython",
    "version": 3
   },
   "file_extension": ".py",
   "mimetype": "text/x-python",
   "name": "python",
   "nbconvert_exporter": "python",
   "pygments_lexer": "ipython3",
   "version": "3.7.1"
  }
 },
 "nbformat": 4,
 "nbformat_minor": 2
}
